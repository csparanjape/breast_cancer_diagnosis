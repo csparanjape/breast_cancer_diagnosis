{
 "cells": [
  {
   "cell_type": "markdown",
   "id": "1972ecd0",
   "metadata": {},
   "source": [
    "# Model building and evaluation\n",
    "\n",
    "\n",
    "This notebook trains and examins different ML classifiers on training data dataset. \n",
    "\n",
    "* Logistic regression\n",
    "* Decision tree\n",
    "* K Nearest neighbours\n",
    "* SVM\n",
    "* AdaBoost classifier\n",
    "* Gradient Boost classifier\n",
    "* Random forest\n",
    "* Extra tree classifier\n",
    "* XG Boost\n",
    "* ANN"
   ]
  },
  {
   "cell_type": "code",
   "execution_count": 15,
   "id": "9cc0e5e5",
   "metadata": {},
   "outputs": [],
   "source": [
    "import pandas as pd\n",
    "import numpy as np\n",
    "\n",
    "from sklearn.model_selection import train_test_split, KFold, StratifiedKFold, GridSearchCV\n",
    "\n",
    "from sklearn.linear_model import LogisticRegression\n",
    "from sklearn.tree import DecisionTreeClassifier\n",
    "from sklearn.neighbors import KNeighborsClassifier\n",
    "from sklearn.discriminant_analysis import LinearDiscriminantAnalysis\n",
    "from sklearn.naive_bayes import GaussianNB\n",
    "from sklearn.svm import SVC\n",
    "from sklearn.ensemble import AdaBoostClassifier\n",
    "from sklearn.ensemble import GradientBoostingClassifier\n",
    "from sklearn.ensemble import RandomForestClassifier\n",
    "from sklearn.ensemble import ExtraTreesClassifier\n",
    "from xgboost import XGBClassifier\n",
    "\n",
    "import pickle\n",
    "\n",
    "from sklearn.metrics import classification_report, accuracy_score, roc_auc_score, precision_recall_fscore_support\n",
    "from sklearn.utils.class_weight import compute_class_weight"
   ]
  },
  {
   "cell_type": "markdown",
   "id": "020173f5",
   "metadata": {},
   "source": [
    "## Training, validation and test set"
   ]
  },
  {
   "cell_type": "code",
   "execution_count": 53,
   "id": "8940203c",
   "metadata": {},
   "outputs": [],
   "source": [
    "df=pd.read_csv('./data/wdbc_final.csv')\n"
   ]
  },
  {
   "cell_type": "code",
   "execution_count": 56,
   "id": "9642afdf",
   "metadata": {},
   "outputs": [],
   "source": [
    "X=df[['radius_mean', 'texture_mean', 'perimeter_mean', 'area_mean',\n",
    "       'smoothness_mean', 'compactness_mean', 'concavity_mean',\n",
    "       'concave_points_mean', 'symmetry_mean', 'fractal_dimension_mean',\n",
    "       'radius_stdEr', 'texture_stdEr', 'perimeter_stdEr', 'area_stdEr',\n",
    "       'smoothness_stdEr', 'compactness_stdEr', 'concavity_stdEr',\n",
    "       'concave_points_stdEr', 'symmetry_stdEr', 'fractal_dimension_stdEr',\n",
    "       'radius_worst', 'texture_worst', 'perimeter_worst', 'area_worst',\n",
    "       'smoothness_worst', 'compactness_worst', 'concavity_worst',\n",
    "       'concave_points_worst', 'symmetry_worst', 'fractal_dimension_worst']]\n",
    "y=df['isMalignant']"
   ]
  },
  {
   "cell_type": "code",
   "execution_count": 57,
   "id": "8e6bab82",
   "metadata": {},
   "outputs": [],
   "source": [
    "X_train_temp, X_test, y_train_temp, y_test = train_test_split(X,y,test_size=0.2,random_state=42)\n",
    "X_train, X_cv, y_train, y_cv = train_test_split(X_train_temp,y_train_temp,test_size=0.25)"
   ]
  },
  {
   "cell_type": "code",
   "execution_count": 21,
   "id": "797a802c",
   "metadata": {},
   "outputs": [],
   "source": [
    "def bestModel(model, X_train, X_cv, y_train, y_cv, grid):\n",
    "    model_cv = GridSearchCV(model, grid, cv=4)\n",
    "    model_cv.fit(X_train, y_train)\n",
    "    print(\"tuned hpyerparameters :(best parameters) \", model_cv.best_params_)\n",
    "    print(\"accuracy :\", model_cv.best_score_)\n",
    "    mod_best= model_cv.best_estimator_\n",
    "    return mod_best\n",
    "\n",
    "\n",
    "def testModel(model, X_train, X_cv, y_train, y_cv):\n",
    "    model.fit(X_train,y_train)\n",
    "    y_pred_tr = model.predict(X_train)\n",
    "    y_pred_cv = model.predict(X_cv)\n",
    "    precision_tr, recall_tr, fscore_tr, support_tr = precision_recall_fscore_support(\n",
    "        y_train, y_pred_tr, average='macro')\n",
    "    precision_cv, recall_cv, fscore_cv, support_cv = precision_recall_fscore_support(\n",
    "        y_cv, y_pred_cv, average='macro')\n",
    "    report= np.array([precision_tr, recall_tr, fscore_tr, precision_cv, recall_cv, fscore_cv])\n",
    "    return report\n",
    "\n",
    "def getModel():\n",
    "    modelList=[]    \n",
    "    gridList=[]\n",
    "    \n",
    "    modelList.append(('LogReg',LogisticRegression()))\n",
    "    gridList.append(('LogReg',{'C': np.logspace(-5, 1, 50),'solver': ['newton-cg', 'lbfgs', 'sag', 'saga'],'class_weight':['auto'], 'max_iter':[200]}))\n",
    "    \n",
    "    modelList.append(('DecTree',DecisionTreeClassifier()))\n",
    "    gridList.append(('DecTree',{'criterion': ['gini', 'entropy'], 'splitter': ['best', 'random'],'max_features':['auto', 'sqrt', 'log2']}))\n",
    "    \n",
    "    modelList.append(('KNN',KNeighborsClassifier()))\n",
    "    gridList.append(('KNN',{'n_neighbors': np.int0(np.linspace(3, 22, 20)),\n",
    "    'weights': ['uniform', 'distance'],\n",
    "    'algorithm': ['auto', 'ball_tree', 'kd_tree', 'brute']}))\n",
    "    \n",
    "    modelList.append(('LinDiscrAn',LinearDiscriminantAnalysis()))\n",
    "    gridList.append(('LinDiscrAn',{'solver' : ['svd', 'lsqr', 'eigen']}))\n",
    "    \n",
    "    modelList.append(('GNB',GaussianNB()))\n",
    "    gridList.append(('GNB',{}))\n",
    "    \n",
    "    modelList.append(('SVM',SVC()))\n",
    "    gridList.append(('SVM',{'C': np.logspace(-5, 2, 20),\n",
    "    'kernel': ['linear', 'poly', 'rbf', 'sigmoid']}))\n",
    "    \n",
    "    modelList.append(('AdBst',AdaBoostClassifier()))\n",
    "    gridList.append(('AdBst',{'n_estimators' :np.linspace(10,110,11),'algorithm': ['SAMME', 'SAMME.R']}))\n",
    "    \n",
    "    modelList.append(('GrBst',GradientBoostingClassifier()))\n",
    "    gridList.append(('GrBst',{'loss' :['deviance', 'exponential'],'n_estimators' :np.linspace(50,150,11),'max_features':['auto', 'sqrt', 'log2']}))\n",
    "    \n",
    "    modelList.append(('RnFrst',RandomForestClassifier()))\n",
    "    gridList.append(('RnFrst',{'n_estimators': np.array([50,150,11],'max_features':['auto', 'sqrt', 'log2']),\n",
    "    'criterion': ['gini', 'entropy']}))\n",
    "    \n",
    "    modelList.append(('XTreeClsfr',ExtraTreesClassifier()))\n",
    "    gridList.append(('XTreeClsfr',{{'n_estimators': np.array([50,150,11],'max_features':['auto', 'sqrt', 'log2']),\n",
    "    'criterion': ['gini', 'entropy']}}))\n",
    "    \n",
    "    modelList.append(('XGBst',XGBClassifier()))\n",
    "    gridList.append(('XGBst',{'n_estimators': np.array([50, 70, 100])}))\n",
    "\n",
    "    return modelList,gridList\n",
    "\n",
    "\n",
    "    "
   ]
  },
  {
   "cell_type": "code",
   "execution_count": 45,
   "id": "65ea9595",
   "metadata": {},
   "outputs": [],
   "source": [
    "modList,gridList=getModel()"
   ]
  },
  {
   "cell_type": "code",
   "execution_count": 59,
   "id": "044cf484",
   "metadata": {},
   "outputs": [
    {
     "name": "stdout",
     "output_type": "stream",
     "text": [
      "LogReg\n",
      "DecTree\n",
      "KNN\n",
      "LinDiscrAn\n",
      "GNB\n",
      "SVM\n",
      "AdBst\n",
      "GrBst\n",
      "RnFrst\n",
      "XTreeClsfr\n",
      "XGBst\n"
     ]
    }
   ],
   "source": [
    "bestparams=[]\n",
    "for i in range(len(modList)):\n",
    "    bestparams.append((modList[i][0],bestModel(modList[i][1],X_train, X_cv, y_train, y_cv, gridList[i][1])))"
   ]
  },
  {
   "cell_type": "code",
   "execution_count": null,
   "id": "3bb450d1",
   "metadata": {},
   "outputs": [],
   "source": []
  }
 ],
 "metadata": {
  "kernelspec": {
   "display_name": "Python 3",
   "language": "python",
   "name": "python3"
  },
  "language_info": {
   "codemirror_mode": {
    "name": "ipython",
    "version": 3
   },
   "file_extension": ".py",
   "mimetype": "text/x-python",
   "name": "python",
   "nbconvert_exporter": "python",
   "pygments_lexer": "ipython3",
   "version": "3.7.7"
  }
 },
 "nbformat": 4,
 "nbformat_minor": 5
}
